{
 "cells": [
  {
   "cell_type": "code",
   "execution_count": 3,
   "id": "9b65e927",
   "metadata": {
    "scrolled": true
   },
   "outputs": [
    {
     "name": "stdout",
     "output_type": "stream",
     "text": [
      "================================ Coded By Mohammed AGooR ===================================\n",
      "\n",
      "Here we are ,... the Final Result of the Inverse of Matrix matA ..... \n",
      "\n",
      "[[1.2857142857142858, -0.2857142857142857, -0.14285714285714285], [-0.47619047619047616, 0.14285714285714285, 0.23809523809523808], [0.19047619047619047, 0.14285714285714285, -0.09523809523809523]]\n",
      "\n",
      "================================ Coded By Mohammed AGooR ===================================\n"
     ]
    }
   ],
   "source": [
    "#Question No. 2\n",
    "print(\"================================ Coded By Mohammed AGooR ===================================\")\n",
    "print(\"\")\n",
    "\n",
    "\n",
    "matA = [[1,1,1],[0,2,5],[2,5,-1]]\n",
    "\n",
    "def det2x2(mat1):\n",
    "    '''this function calculates the 2x2 matrix detrminant'''\n",
    "    assert (len(mat1) == 2 and len(mat1[0]) == 2) ,\"it should be 2x2 Matrix\"\n",
    "    det2x2 = (mat1[0][0] * mat1[1][1]) - (mat1[0][1] * mat1[1][0])\n",
    "   \n",
    "    return det2x2\n",
    "\n",
    "\n",
    "def get2x2(mat2,row,col):\n",
    "    '''this function returns the sub 2x2 matrix of the big matrix 3x3'''\n",
    "    mat2x2 = []    \n",
    "    for i in range(len(mat2)):\n",
    "        matRow = [] \n",
    "        for j in range(len(mat2[0])):\n",
    "            if i!=row and j!=col:\n",
    "                matRow.append(mat2[i][j])            \n",
    "        if matRow:\n",
    "            mat2x2.append(matRow)\n",
    "            \n",
    "    return mat2x2\n",
    "\n",
    "\n",
    "def calDet(mat3):\n",
    "    '''this function calculates the final Determinant of 3x3 Matrix'''\n",
    "    come0 = get2x2(mat3,0,0)\n",
    "    come1 = get2x2(mat3,0,1)\n",
    "    come2 = get2x2(mat3,0,2)\n",
    "\n",
    "    det0 = det2x2(come0) * mat3[0][0]\n",
    "    det1 = det2x2(come1) * mat3[0][1]\n",
    "    det2 = det2x2(come2) * mat3[0][2]\n",
    "\n",
    "    det = det0 - det1 + det2\n",
    "    \n",
    "    if det == 0 :\n",
    "        return 'this Matrix is non-Invertible has no Inverse , Determinant = 0 , Singular Matrix'\n",
    "\n",
    "    return det\n",
    "\n",
    "# we want to generate the method of cofactors\n",
    "\n",
    "def cofactor(mat4):\n",
    "    '''this function returns the cofactor matrix 3x3'''\n",
    "    matSigns = [[1,-1,1],[-1,1,-1],[1,-1,1]]\n",
    "\n",
    "    matCofact = []\n",
    "    for i in range(len(mat4)):\n",
    "        matChild = []\n",
    "        for j in range(len(mat4[0])):\n",
    "            comeNum = get2x2(mat4,i,j)\n",
    "            get_det2x2 = det2x2(comeNum) \n",
    "            each_num =  get_det2x2 * matSigns[i][j]\n",
    "            matChild.append(each_num)\n",
    "        if matChild:\n",
    "            matCofact.append(matChild)\n",
    "    \n",
    "    \n",
    "    return matCofact\n",
    "\n",
    "\n",
    "# we want to get Transpose of cofactor Matrix\n",
    "\n",
    "def cofactTranspose(mat5):\n",
    "    '''this function is to transpose the cofactor Matrix'''\n",
    "    matTrans = []\n",
    "    matCofactor = cofactor(mat5)\n",
    "    for i in range(len(mat5)):\n",
    "        matChildTrans = []\n",
    "        for j in range(len(mat5[0])):\n",
    "            value_Trans = matCofactor[j][i]\n",
    "            matChildTrans.append(value_Trans)\n",
    "        if matChildTrans:\n",
    "            matTrans.append(matChildTrans)\n",
    "            \n",
    "    return matTrans\n",
    "\n",
    "\n",
    "pre_final_mat = cofactTranspose(matA)   # pre final matrix , we almost done \n",
    "\n",
    "\n",
    "# we now finally to divide the Transposed Cofacroer Matrix by Determinant\n",
    "\n",
    "def lastCal(mat6):\n",
    "    '''this function is the last function , divide the Transposed Cofactor Matrix by Deteminant'''\n",
    "    matFinal = []\n",
    "    \n",
    "    for i in range(len(mat6)):\n",
    "        matChildFinal = []\n",
    "        for j in range(len(mat6[0])):\n",
    "            final_value = pre_final_mat[i][j] / calDet(mat6)\n",
    "            matChildFinal.append(final_value)\n",
    "        if matChildFinal:\n",
    "            matFinal.append(matChildFinal)\n",
    "    return matFinal\n",
    "\n",
    "\n",
    "print(\"Here we are ,... the Final Result of the Inverse of Matrix matA ..... \")\n",
    "print(\"\")\n",
    "\n",
    "print(lastCal(matA))\n",
    "\n",
    "print(\"\")\n",
    "print(\"================================ Coded By Mohammed AGooR ===================================\")\n"
   ]
  },
  {
   "cell_type": "code",
   "execution_count": 6,
   "id": "1378ea86",
   "metadata": {},
   "outputs": [
    {
     "data": {
      "text/plain": [
       "array([[ 1.28571429, -0.28571429, -0.14285714],\n",
       "       [-0.47619048,  0.14285714,  0.23809524],\n",
       "       [ 0.19047619,  0.14285714, -0.0952381 ]])"
      ]
     },
     "execution_count": 6,
     "metadata": {},
     "output_type": "execute_result"
    }
   ],
   "source": [
    "# Check by Numpy\n",
    "\n",
    "import numpy as np\n",
    "np.linalg.inv(matA)"
   ]
  },
  {
   "cell_type": "code",
   "execution_count": null,
   "id": "3d9b2ccd",
   "metadata": {},
   "outputs": [],
   "source": []
  }
 ],
 "metadata": {
  "kernelspec": {
   "display_name": "Python 3",
   "language": "python",
   "name": "python3"
  },
  "language_info": {
   "codemirror_mode": {
    "name": "ipython",
    "version": 3
   },
   "file_extension": ".py",
   "mimetype": "text/x-python",
   "name": "python",
   "nbconvert_exporter": "python",
   "pygments_lexer": "ipython3",
   "version": "3.8.8"
  }
 },
 "nbformat": 4,
 "nbformat_minor": 5
}
